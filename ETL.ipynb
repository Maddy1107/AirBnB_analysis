{
 "cells": [
  {
   "cell_type": "code",
   "execution_count": 37,
   "metadata": {},
   "outputs": [],
   "source": [
    "import os\n",
    "from dotenv import load_dotenv\n",
    "\n",
    "import pandas as pd\n",
    "from pymongo import MongoClient\n",
    "from pymongo.server_api import ServerApi"
   ]
  },
  {
   "cell_type": "code",
   "execution_count": 39,
   "metadata": {},
   "outputs": [
    {
     "name": "stdout",
     "output_type": "stream",
     "text": [
      "You successfully connected to MongoDB!\n"
     ]
    }
   ],
   "source": [
    "load_dotenv()\n",
    "uri = os.getenv('uri')\n",
    "\n",
    "client = MongoClient(uri)\n",
    "try:\n",
    "    client.admin.command('ping')\n",
    "    print(\"You successfully connected to MongoDB!\")\n",
    "except Exception as e:\n",
    "    print(e)\n",
    "    \n",
    "db = client.airbnb\n",
    "col = db.propertydata"
   ]
  },
  {
   "cell_type": "code",
   "execution_count": 43,
   "metadata": {},
   "outputs": [],
   "source": [
    "property_data = []\n",
    "\n",
    "for i in col.find():\n",
    "    data = dict(\n",
    "                Id = i['_id'],\n",
    "                Listing_url = i['listing_url'],\n",
    "                Name = i.get('name'),\n",
    "                Description = i['description'],\n",
    "                House_rules = i.get('house_rules'),\n",
    "                Property_type = i['property_type'],\n",
    "                Room_type = i['room_type'],\n",
    "                Bed_type = i['bed_type'],\n",
    "                Min_nights = int(i['minimum_nights']),\n",
    "                Max_nights = int(i['maximum_nights']),\n",
    "                Cancellation_policy = i['cancellation_policy'],\n",
    "                Accomodates = i['accommodates'],\n",
    "                Total_bedrooms = i.get('bedrooms'),\n",
    "                Total_beds = i.get('beds'),\n",
    "                Price = i['price'],\n",
    "                Security_deposit = i.get('security_deposit'),\n",
    "                Cleaning_fee = i.get('cleaning_fee'),\n",
    "                Extra_people = i['extra_people'],\n",
    "                Guests_included= i['guests_included'],\n",
    "                No_of_reviews = i['number_of_reviews'],\n",
    "                Images = i['images']['picture_url']\n",
    "    )\n",
    "    property_data.append(data)\n",
    "    \n",
    "property_df = pd.DataFrame(property_data)\n",
    "property_df.to_csv('data/PropertyData.csv')"
   ]
  }
 ],
 "metadata": {
  "kernelspec": {
   "display_name": "Python 3",
   "language": "python",
   "name": "python3"
  },
  "language_info": {
   "codemirror_mode": {
    "name": "ipython",
    "version": 3
   },
   "file_extension": ".py",
   "mimetype": "text/x-python",
   "name": "python",
   "nbconvert_exporter": "python",
   "pygments_lexer": "ipython3",
   "version": "3.12.2"
  }
 },
 "nbformat": 4,
 "nbformat_minor": 2
}
